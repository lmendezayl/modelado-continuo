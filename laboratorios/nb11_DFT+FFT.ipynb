{
  "cells": [
    {
      "cell_type": "markdown",
      "metadata": {
        "id": "view-in-github",
        "colab_type": "text"
      },
      "source": [
        "<a href=\"https://colab.research.google.com/github/lmendezayl/modelado-continuo/blob/main/laboratorios/nb11_DFT%2BFFT.ipynb\" target=\"_parent\"><img src=\"https://colab.research.google.com/assets/colab-badge.svg\" alt=\"Open In Colab\"/></a>"
      ]
    },
    {
      "cell_type": "markdown",
      "id": "9GR1QuoGIAuZ",
      "metadata": {
        "id": "9GR1QuoGIAuZ"
      },
      "source": [
        "> (Última Actualización: 22 de Octubre de 2025)"
      ]
    },
    {
      "cell_type": "markdown",
      "id": "tt9aTT1yxdHb",
      "metadata": {
        "id": "tt9aTT1yxdHb"
      },
      "source": [
        "# **Introducción al modelado continuo** (*a.k.a.* **Ecuaciones de la física matemática**)\n",
        "## Laboratorio numérico\n",
        "\n",
        "Bienvenidos al laboratorio numérico de la materia *Introducción al modelado continuo*, también conocida como *Ecuaciones de la física matemática*. En este, vamos a ver métodos numéricos para resolver distintos tipos de problemas de manera general, y su relación y aplicación a problemas específicos de la materia, de manera tal de complementar los contenidos de la cursada teórico-práctica."
      ]
    },
    {
      "cell_type": "markdown",
      "id": "TSwm8msY4CZD",
      "metadata": {
        "id": "TSwm8msY4CZD"
      },
      "source": [
        "# Motivación de este colab\n",
        "<!-- $$\\require{amsmath}$$ -->\n",
        "\n",
        "La **transformada de Fourier**, en el marco de las transformaciones integrales de variables continuas usando un kernel de Fourier, es una herramienta con grandes aplicaciones en la resolución de problemas de la física matemática con cierto tipo de condiciones de contorno. Permite resolver problemas complicados o incluso que no tienen solución directa, a partir de transformar el problema, resolver el problema en el espacio transoformado, y anti-transformar para encontrar la solución en el espacio original. En la clase teórica vimos como esto nos permitía obtener las soluciones de ecuaciones diferenciales en derivadas parciales (PDEs) a partir de resolver en el espacio transformado ecuaciones diferenciales ordinarias (ODEs), como las que vimos durante el 1er eje temático. Esto nos permitía resolver problemas de sistemas físicos tradicionales como la ecuación del calor o la ecuación de ondas. Así mismo, también vimos que este tipo de estrategias nos permitía resolver de manera parsimoniosa el oscilador forzado, debido a la naturaleza periódica del problema. Entonces, vimos la potencia de la transformada de Fourier en aplicaciones matemáticas para variables continuas.\n",
        "\n",
        "Ahora, qué pasa cuando tengo una representación discreta de variables, es decir, datos? En este colab vamos a revisar algunos conceptos de la transformada desde la perspectiva numérica, y vamos a explorar la transformada de Fourier en el contexto de aplicación a señales. Vamos a reforzar la interpretación de la transformada de una señal discreta en este marco, y cómo adaptarla. Esto nos va a llevar a definir la **transformada discreta de Fourier (DFT)**, destacando el algoritmo de la **transformada rápida de Fourier (FFT)** como estrategia para poder computarla de manera eficiente y menos costosa.\n",
        "\n",
        "---\n"
      ]
    },
    {
      "cell_type": "code",
      "execution_count": null,
      "id": "sZl0Iue15NH_",
      "metadata": {
        "id": "sZl0Iue15NH_",
        "colab": {
          "base_uri": "https://localhost:8080/"
        },
        "outputId": "2536dce8-13a6-4035-976d-cc07aa3e44b6"
      },
      "outputs": [
        {
          "output_type": "stream",
          "name": "stdout",
          "text": [
            "Requirement already satisfied: scipy in /usr/local/lib/python3.12/dist-packages (1.16.2)\n",
            "Requirement already satisfied: numpy<2.6,>=1.25.2 in /usr/local/lib/python3.12/dist-packages (from scipy) (2.0.2)\n"
          ]
        }
      ],
      "source": [
        "import numpy as np\n",
        "np.set_printoptions(legacy='1.25')\n",
        "import matplotlib.pyplot as plt\n",
        "!pip install scipy\n",
        "import scipy as sp"
      ]
    },
    {
      "cell_type": "markdown",
      "id": "Rpwc5x_i4Kiq",
      "metadata": {
        "id": "Rpwc5x_i4Kiq"
      },
      "source": [
        "---\n",
        "# Generalización de series de Fourier para funciones periódicas\n",
        "\n",
        "En el colab pasado vimos la representación en series de Fourier para funciones periódicas con período $2 \\pi$. Estas expansiones se pueden extender a funciones periódicas con período $2L$ con la siguiente expresión:\n",
        "\n",
        "$$\n",
        "f(x) = \\frac{a_0}{2} + \\sum_{n=1}^{\\infty} a_n cos \\left( \\frac{n \\pi x}{L} \\right) + \\sum_{n=1}^{\\infty} b_n sin \\left( \\frac{n \\pi x}{L} \\right)\n",
        "$$\n",
        "\n",
        "Donde los coeficientes están relacionados con la función periódica f(x) mediante integrales definidas:\n",
        "\n",
        "$$\n",
        "a_n = \\frac{1}{L} \\int_{-L}^{L} f(x) cos \\left( \\frac{n \\pi x}{L} \\right) dx \\\\\n",
        "b_n = \\frac{1}{L} \\int_{-L}^{L} f(x) sin \\left( \\frac{n \\pi x}{L} \\right) dx\n",
        "$$\n",
        "\n",
        "El cálculo de los coeficientes se resuelve de manera análoga que para el caso en el que el período es $2 \\pi$.\n",
        "\n",
        "Noten que para generalizar a funciones periódicas con período $2L$ tuvimos que adaptar la periodicidad de las funciones ortogonales de la base de senos y cosenos para que tengan período $2L$ (cambiando la expresión de su argumento), y también tuvimos que cambiar el factor multiplicativo por un tema de normalización de la base.\n",
        "\n",
        "Las series de Fourier, de manera más general, permiten analizar funciones periódicas de cualquier período, descomponiéndolas en una suma infinita de funciones armónicas. Los coeficientes expresan la cantidad de cada una de las señales armónicas puras que se deben sumar para obtener la señal analizada.\n"
      ]
    },
    {
      "cell_type": "markdown",
      "id": "r15-43Xu5jsM",
      "metadata": {
        "id": "r15-43Xu5jsM"
      },
      "source": [
        "## Ejercicio 1\n",
        "\n",
        "Sea la función $f_1(x)=sin(\\pi x)+2sin(3\\pi x)$\n",
        "\n",
        "1.1. Qué período tiene? Haga el gráfico para varios períodos.\n",
        "\n",
        "1.2. Calcule los coeficientes del desarrollo de Fourier hasta el orden 8. Haga el gráfico de los coeficientes en función de la frecuencia discreta (o del n, por simplicidad). Es lo que esperaba encontrar? Haga también el gráfico de $\\sqrt{a_n^2+b_n^2}$.\n",
        "\n",
        "1.3. Repita el análisis para $f_2(x)=sin(4\\pi x)+2sin(2\\pi x)$.\n"
      ]
    },
    {
      "cell_type": "code",
      "execution_count": null,
      "id": "zqBwx5voZVgu",
      "metadata": {
        "id": "zqBwx5voZVgu"
      },
      "outputs": [],
      "source": [
        "pi = np.pi\n",
        "def f1(x): return np.sin(pi*x) + 2*np.sin(3*pi*x)"
      ]
    },
    {
      "cell_type": "code",
      "source": [
        "x = np.linspace(0,5,1000)\n",
        "y = f1(x)\n",
        "plt.plot(x, y)\n",
        "plt.xticks([2,4,6])\n",
        "plt.grid()"
      ],
      "metadata": {
        "colab": {
          "base_uri": "https://localhost:8080/",
          "height": 430
        },
        "id": "hJhCCTjy_7j-",
        "outputId": "41996546-2a52-4257-825b-ae3936389bda"
      },
      "id": "hJhCCTjy_7j-",
      "execution_count": null,
      "outputs": [
        {
          "output_type": "display_data",
          "data": {
            "text/plain": [
              "<Figure size 640x480 with 1 Axes>"
            ],
            "image/png": "[encoded data removed]"
          },
          "metadata": {}
        }
      ]
    },
    {
      "cell_type": "code",
      "source": [
        "def coefs(f, L: float | int, dh:int, N: int) -> None:\n",
        "    coeffs_a: list[float] = list()\n",
        "    coeffs_b: list[float] = list()\n",
        "    x = np.linspace(-L, L, dh)\n",
        "    a_0 = round((1/L) * np.trapezoid(f(x), x) / 2, 5)\n",
        "\n",
        "    for k in range(1, N):\n",
        "        a_k: float = (1/L) * np.trapezoid(f(x) * np.cos((k*np.pi*x)/L), x)\n",
        "        b_k: float = (1/L) * np.trapezoid(f(x) * np.sin((k*np.pi*x)/L), x)\n",
        "        coeffs_a.append(round(a_k, 5))\n",
        "        coeffs_b.append(round(b_k, 5))\n",
        "\n",
        "    plt.plot(coeffs_a, label=\"$a_n$\")\n",
        "    plt.plot(coeffs_b, label=\"$b_n$\")\n",
        "    plt.plot([np.sqrt(a**2 + b**2) for a, b in zip(coeffs_a, coeffs_b)], label=\"$\\sqrt{a_n^2+b_n^2}$\")\n",
        "    plt.title(f\"Funciοn con periodo {L}\")\n",
        "    plt.grid()\n",
        "    plt.legend()\n",
        "    plt.show()"
      ],
      "metadata": {
        "colab": {
          "base_uri": "https://localhost:8080/"
        },
        "id": "NVyhFy15_Njv",
        "outputId": "e23df737-426f-445d-fbb6-b8a868f33b68"
      },
      "id": "NVyhFy15_Njv",
      "execution_count": null,
      "outputs": [
        {
          "output_type": "stream",
          "name": "stderr",
          "text": [
            "<>:15: SyntaxWarning: invalid escape sequence '\\s'\n",
            "<>:15: SyntaxWarning: invalid escape sequence '\\s'\n",
            "/tmp/ipython-input-2613963048.py:15: SyntaxWarning: invalid escape sequence '\\s'\n",
            "  plt.plot([np.sqrt(a**2 + b**2) for a, b in zip(coeffs_a, coeffs_b)], label=\"$\\sqrt{a_n^2+b_n^2}$\")\n"
          ]
        }
      ]
    },
    {
      "cell_type": "code",
      "source": [
        "coefs(f1, 2, 100, 8)"
      ],
      "metadata": {
        "colab": {
          "base_uri": "https://localhost:8080/",
          "height": 452
        },
        "id": "t2ILkIgh_TzW",
        "outputId": "2c1c6434-b5e2-4fb8-e792-061f76c86f45"
      },
      "id": "t2ILkIgh_TzW",
      "execution_count": null,
      "outputs": [
        {
          "output_type": "display_data",
          "data": {
            "text/plain": [
              "<Figure size 640x480 with 1 Axes>"
            ],
            "image/png": "[encoded data removed]"
          },
          "metadata": {}
        }
      ]
    },
    {
      "cell_type": "code",
      "source": [
        "def f2(x): return np.sin(4*np.pi*x) + 2 * np.sin(2*np.pi*x)\n",
        "coefs(f2, 1, 100, 8)"
      ],
      "metadata": {
        "colab": {
          "base_uri": "https://localhost:8080/",
          "height": 452
        },
        "id": "Ca52WiLgGYaO",
        "outputId": "f3b418d2-8b15-47ad-ef38-869368c6f1d8"
      },
      "id": "Ca52WiLgGYaO",
      "execution_count": null,
      "outputs": [
        {
          "output_type": "display_data",
          "data": {
            "text/plain": [
              "<Figure size 640x480 with 1 Axes>"
            ],
            "image/png": "[encoded data removed]"
          },
          "metadata": {}
        }
      ]
    },
    {
      "cell_type": "markdown",
      "id": "vXpSYSIMRYts",
      "metadata": {
        "id": "vXpSYSIMRYts"
      },
      "source": [
        "---\n",
        "# Generalización de series de Fourier para funciones no periódicas\n",
        "\n",
        "De la misma manera que para funciones periódicas, se puede plantear la expansión para funciones no periódicas pero definidas en un intervalo $[-L, L]$, aprovechando las condiciones de contorno del intervalo. Esto se hace extendiendo la función como si se repitiese fuera del intervalo, de manera tal que pueda considerarse a la función como periódica con periodo $2L$. La expansión de Fourier para funciones no periódicas en $[-L, L]$ permite representar cualquier función en ese intervalo mediante una suma infinita de senos y cosenos. Aunque no es una representación extrictamente periódica, su construcción en el intervalo finito implica que, fuera de $[-L, L]$, la función se \"extiende\" periódicamente. La expansión y los coeficientes se pueden calcular por lo tanto de manera análoga a lo visto para funciones periódicas.\n",
        "\n",
        "$$\n",
        "f(x) = \\frac{a_0}{2} + \\sum_{n=1}^{\\infty} a_n cos \\left( \\frac{n \\pi x}{L} \\right) + \\sum_{n=1}^{\\infty} b_n sin \\left( \\frac{n \\pi x}{L} \\right) \\\\\n",
        "a_n = \\frac{1}{L} \\int_{-L}^{L} f(x) cos \\left( \\frac{n \\pi x}{L} \\right) dx \\\\\n",
        "b_n = \\frac{1}{L} \\int_{-L}^{L} f(x) sin \\left( \\frac{n \\pi x}{L} \\right) dx\n",
        "$$\n",
        "\n",
        "Los coeficientes representan las amplitudes de las frecuencias $\\frac{n \\pi}{L}$ que componen la señal."
      ]
    },
    {
      "cell_type": "markdown",
      "id": "LTZXEVyWRWAG",
      "metadata": {
        "id": "LTZXEVyWRWAG"
      },
      "source": [
        "---\n",
        "## Paridad de las funciones\n",
        "\n",
        "La paridad de funciones se refiere a la simetría de una función con respecto al origen o al eje vertical. Una función $f(x)$ es **par** si cumple $f(x) = f(-x)$ para todo $x$, lo que significa que su gráfica es simétrica respecto al eje $y$. En cambio, es **impar** si satisface $f(x) = -f(-x)$, lo que implica que su gráfica es simétrica respecto al origen. Esto hace que las integrales en los intervalos $[-L, 0]$ y $[0, L]$ tengan una relación entre sí. Usando la regla de trapezio compuesta, calculemos las integrales en estos sub-intervalos para varios valores de L distintos, para una función par como $f(x)=x^{2}$, definida en el intervalo $[-L, L]$, y veamos cómo es la relación entre integrales."
      ]
    },
    {
      "cell_type": "code",
      "execution_count": null,
      "id": "U0GlrpknRTie",
      "metadata": {
        "id": "U0GlrpknRTie",
        "colab": {
          "base_uri": "https://localhost:8080/",
          "height": 407
        },
        "outputId": "a83954aa-d920-462e-cec7-a073814955a0"
      },
      "outputs": [
        {
          "output_type": "display_data",
          "data": {
            "text/plain": [
              "<Figure size 800x400 with 2 Axes>"
            ],
            "image/png": "[encoded data removed]"
          },
          "metadata": {}
        }
      ],
      "source": [
        "def f(x):\n",
        "    return x**2\n",
        "\n",
        "I1 = []\n",
        "I2 = []\n",
        "Ls = np.arange(9)+1\n",
        "for L in Ls:\n",
        "    x_mitad1 = np.linspace(-L, 0, 1000)\n",
        "    I_mitad1 = np.trapezoid(f(x_mitad1), x_mitad1)\n",
        "    x_mitad2 = np.linspace(0, L, 1000)\n",
        "    I_mitad2 = np.trapezoid(f(x_mitad2), x_mitad2)\n",
        "    I1.append(I_mitad1)\n",
        "    I2.append(I_mitad2)\n",
        "\n",
        "plt.figure(figsize=(8, 4))\n",
        "plt.subplot(1, 2, 1)\n",
        "plt.plot(I1, I1, 'r-')\n",
        "plt.plot(I1, I2, 'ko')\n",
        "plt.ylabel('I2', fontsize=14)\n",
        "plt.xlabel('I1', fontsize=14)\n",
        "plt.subplot(1, 2, 2)\n",
        "plt.plot(Ls, np.array(I2)/np.array(I1))\n",
        "plt.ylabel('I2/I1', fontsize=14)\n",
        "plt.xlabel('L', fontsize=14)\n",
        "plt.tight_layout()\n",
        "plt.show()"
      ]
    },
    {
      "cell_type": "markdown",
      "id": "kjJbIPCNWPrU",
      "metadata": {
        "id": "kjJbIPCNWPrU"
      },
      "source": [
        "Veamos qué pasa ahora para una función impar como $f(x)=x^{3}$, definida en el intervalo $[-L, L]$."
      ]
    },
    {
      "cell_type": "code",
      "execution_count": null,
      "id": "DlJPZ8q9V8ig",
      "metadata": {
        "id": "DlJPZ8q9V8ig",
        "colab": {
          "base_uri": "https://localhost:8080/",
          "height": 407
        },
        "outputId": "782dc4fd-7d3e-420b-bef1-b7b052b3b2a0"
      },
      "outputs": [
        {
          "output_type": "display_data",
          "data": {
            "text/plain": [
              "<Figure size 800x400 with 2 Axes>"
            ],
            "image/png": "[encoded data removed]"
          },
          "metadata": {}
        }
      ],
      "source": [
        "def f(x):\n",
        "    return x**3\n",
        "\n",
        "I1 = []\n",
        "I2 = []\n",
        "Ls = np.arange(9)+1\n",
        "for L in Ls:\n",
        "    x_mitad1 = np.linspace(-L, 0, 1000)\n",
        "    I_mitad1 = np.trapezoid(f(x_mitad1), x_mitad1)\n",
        "    x_mitad2 = np.linspace(0, L, 1000)\n",
        "    I_mitad2 = np.trapezoid(f(x_mitad2), x_mitad2)\n",
        "    I1.append(I_mitad1)\n",
        "    I2.append(I_mitad2)\n",
        "\n",
        "plt.figure(figsize=(8, 4))\n",
        "plt.subplot(1, 2, 1)\n",
        "plt.plot(I1, -np.array(I1), 'r-')\n",
        "plt.plot(I1, I2, 'ko')\n",
        "plt.ylabel('I2', fontsize=14)\n",
        "plt.xlabel('I1', fontsize=14)\n",
        "plt.subplot(1, 2, 2)\n",
        "plt.plot(Ls, np.array(I2)/np.array(I1))\n",
        "plt.ylabel('I2/I1', fontsize=14)\n",
        "plt.xlabel('L', fontsize=14)\n",
        "plt.tight_layout()\n",
        "plt.show()"
      ]
    },
    {
      "cell_type": "markdown",
      "id": "PryboPL5Vs8B",
      "metadata": {
        "id": "PryboPL5Vs8B"
      },
      "source": [
        "### Ejercicio 2\n",
        "\n",
        "2.1. Como resultado de esta relación, se muestra que las integrales de funciones impares en el intervalo $[-L,L]$ son 0, ya que las integrales entre $[-L, 0]$ y $[0, L]$ se cancelan entre sí. Compruébelo con la función $f(x)=x^{3}$.\n",
        "\n",
        "2.2. Usando la regla del trapecio, calcule las integrales de $cos \\left( \\frac{n \\pi x}{L} \\right)$ y $sin \\left( \\frac{n \\pi x}{L} \\right)$ en el intervalo $[-L, L]$. Espera que alguna sea 0? Piense la respuesta en base a la paridad de las funciones. Es lo que esperaba? Qué es lo que está pasando? Tenga en cuenta que estamos integrando una función trigonométrica armónica exactamente en 1 período. Tengo integrales de funciones pares que se anulan por el hecho de que estoy integrando una función armónica en un período. Para que no sea nula, deberian cambiar el argumento del coseno o los límites de integración para no integrar en un múltiplo entero del período. Pruebe por ejemplo, manteniendo todo igual, modificar sólo los límites de integración para que vayan entre $[-5L/2, 5L/2]$. Entonces, la paridad no es la única razón por la cual algunas integrales se hacen 0, pero siempre ayuda usar estos argumentos de simetría para tener una idea de qué términos del desarrollo sí se cancelan por paridad.\n",
        "\n",
        "2.3. Calcule ahora tanto para $f(x)=x^{3}$ como para $f(x)=x^{2}$, las integrales\n",
        "\n",
        "$$\n",
        "\\int_{-L}^{L} f(x) cos \\left( \\frac{n \\pi x}{L} \\right) dx \\\\\n",
        "\\int_{-L}^{L} f(x) sin \\left( \\frac{n \\pi x}{L} \\right) dx\n",
        "$$\n",
        "\n",
        "Qué resultados espera encontrar? Piense en la paridad de una función $h(x)=f(x).g(x)$ para los casos de distinta paridad de las funciones $f(x)$ y $g(x)$. Para esto piense en los distintos casos cómo quedaría $h(-x)$. Explica esto los resultados obtenidos?\n",
        "\n",
        "2.4. Qué implicancias tiene esta propiedad en el cálculo de coeficientes del desarrollo de Fourier? Calcule los coeficientes para $f(x)=x^{2}$ y para $f(x)=x^{3}$. Grafique los coeficientes encontrados en función del $n$."
      ]
    },
    {
      "cell_type": "code",
      "source": [
        "int_cos = np."
      ],
      "metadata": {
        "id": "4rErZvXKLYWj"
      },
      "id": "4rErZvXKLYWj",
      "execution_count": null,
      "outputs": []
    },
    {
      "cell_type": "code",
      "execution_count": null,
      "id": "VLlTceziHCeN",
      "metadata": {
        "id": "VLlTceziHCeN"
      },
      "outputs": [],
      "source": [
        "\n",
        "\n",
        "I1 = []\n",
        "I2 = []\n",
        "Ls = np.arange(9)+1\n",
        "for L in Ls:\n",
        "    x_mitad1 = np.linspace(-L, 0, 1000)\n",
        "    I_mitad1 = np.trapezoid(f(x_mitad1), x_mitad1)\n",
        "    x_mitad2 = np.linspace(0, L, 1000)\n",
        "    I_mitad2 = np.trapezoid(f(x_mitad2), x_mitad2)\n",
        "    I1.append(I_mitad1)\n",
        "    I2.append(I_mitad2)\n",
        "\n",
        "plt.figure(figsize=(8, 4))\n",
        "plt.subplot(1, 2, 1)\n",
        "plt.plot(I1, -np.array(I1), 'r-')\n",
        "plt.plot(I1, I2, 'ko')\n",
        "plt.ylabel('I2', fontsize=14)\n",
        "plt.xlabel('I1', fontsize=14)\n",
        "plt.subplot(1, 2, 2)\n",
        "plt.plot(Ls, np.array(I2)/np.array(I1))\n",
        "plt.ylabel('I2/I1', fontsize=14)\n",
        "plt.xlabel('L', fontsize=14)\n",
        "plt.tight_layout()\n",
        "plt.show()"
      ]
    },
    {
      "cell_type": "markdown",
      "id": "ee5b1248",
      "metadata": {
        "id": "ee5b1248"
      },
      "source": [
        "---\n",
        "# Transformada de Fourier\n",
        "\n",
        "La **transformada de Fourier** y la expansión de Fourier generalizada están directamente relacionadas. De hecho, la transformada de Fourier es una extensión de la serie de Fourier para funciones no periódicas y no acotadas. Esta extensión surge al considerar el límite de la serie de Fourier de una función cuando el intervalo de periodicidad se hace infinito.\n",
        "\n",
        "Para entender esta relación, comencemos desde la expansión de Fourier en un intervalo finito $[-L, L]$ para una función $f(x)$:\n",
        "\n",
        "$$\n",
        "f(x) = \\sum_{n=-\\infty}^{\\infty} c_n e^{-i \\frac{n \\pi x}{L}}\n",
        "$$\n",
        "\n",
        "donde los coeficientes de Fourier $c_n$ son:\n",
        "\n",
        "$$\n",
        "c_n = \\frac{1}{2L} \\int_{-L}^{L} f(x) e^{i \\frac{n \\pi x}{L}} \\, dx\n",
        "$$\n",
        "\n",
        "En esta expresión, las frecuencias $\\frac{n \\pi}{L}$ son discretas debido al intervalo acotado $[-L, L]$. A medida que $L \\to \\infty$, el intervalo de definición se extiende a todo el eje real, el período tiende a infinito, y la separación entre las frecuencias $\\frac{\\pi}{L}$ se vuelve infinitesimal, convirtiendo las frecuencias discretas en un continuo de frecuencias $k$, definidas de la siguiente manera:\n",
        "\n",
        "$$\n",
        "k = \\frac{n \\pi}{L}\n",
        "$$\n",
        "\n",
        "Esto implica que cuando $n$ toma valores enteros, $k$ se distribuye de manera discreta en el espacio de frecuencias. En el límite $L \\to \\infty$, esta frecuencia $k$ se vuelve continua.\n",
        "\n",
        "Reescribimos entonces $n = \\frac{kL}{\\pi}$, lo que nos permite reescalar los coeficientes en términos de $k$. Sustituyendo $k = \\frac{n \\pi}{L}$ en la expresión de $c_n$, obtenemos:\n",
        "\n",
        "$$\n",
        "c_n = \\frac{1}{2L} \\int_{-L}^{L} f(x) e^{i k x} \\, dx\n",
        "$$\n",
        "\n",
        "En el límite $L \\to \\infty$, los valores de $k$ se vuelven continuos. La diferencia entre valores consecutivos de $k$ es aproximadamente:\n",
        "\n",
        "$$\n",
        "\\Delta k = \\frac{\\pi}{L}\n",
        "$$\n",
        "\n",
        "La suma sobre $n$ en la serie de Fourier se convierte entonces en una integral sobre $k$:\n",
        "\n",
        "$$\n",
        "\\sum_{n=-\\infty}^{\\infty} c_n e^{-i k x} \\approx \\int_{-\\infty}^{\\infty} c(k) e^{-i k x} \\, \\frac{dk}{\\Delta k}\n",
        "$$\n",
        "\n",
        "donde $c(k)$ es el valor de $c_n$ asociado a cada $k$, que se interpreta como el espectro de la función.\n",
        "\n",
        "En este contexto, la función $c(k)$ se define como:\n",
        "\n",
        "$$\n",
        "c(k) = \\lim_{L \\to \\infty} \\frac{1}{2L} \\int_{-L}^{L} f(x) e^{i k x} \\, dx\n",
        "$$\n",
        "\n",
        "y corresponde a la **transformada de Fourier** de $f(x)$:\n",
        "\n",
        "$$\n",
        "\\mathcal{F}\\{f(x)\\} = F(k) = \\int_{-\\infty}^{\\infty} f(x) e^{i k x} \\, dx\n",
        "$$\n",
        "\n",
        "La expresión de $f(x)$ en términos de su transformada de Fourier es:\n",
        "\n",
        "$$\n",
        "f(x) = \\frac{1}{2\\pi} \\int_{-\\infty}^{\\infty} F(k) e^{-i k x} \\, dk\n",
        "$$\n",
        "\n",
        "De este modo, la transformada de Fourier continua $F(k)$ es una generalización de los coeficientes de Fourier $c_n$ cuando la función se extiende a todo el dominio real ($L \\to \\infty$).\n",
        "\n",
        "La transformada de Fourier puede verse como una generalización continua de la expansión de Fourier. Mientras que una serie de Fourier descompone una función periódica en frecuencias discretas, la transformada de Fourier descompone una función no periódica (o periódica en el infinito) en un continuo de frecuencias.\n",
        "\n",
        "La transformada de Fourier permite analizar funciones en todo el eje real, algo que la serie de Fourier no puede hacer sin imponer periodicidad artificial. Es, en otras palabras, el límite de la expansión de Fourier para funciones no acotadas en un intervalo finito, lo que permite estudiar frecuencias continuas en lugar de discretas.\n",
        "\n",
        "De esta manera, si consideramos el período $T=2L$, podemos ver los coeficientes $c_n$ de la serie de Fourier como muestras discretas de la transformada de Fourier continua en un conjunto específico de frecuencias $k_n = \\frac{n}{T}$:\n",
        "\n",
        "$$\n",
        "c_n = \\frac{1}{T} F\\left(\\frac{n}{T}\\right)\n",
        "$$\n",
        "\n",
        "A medida que $T \\to \\infty$, los coeficientes $c_n$ se convierten en puntos de la transformada continua, generando un espectro continuo que se vuelve denso en el espacio de frecuencias.\n"
      ]
    },
    {
      "cell_type": "markdown",
      "id": "9DnOW9iPw49z",
      "metadata": {
        "id": "9DnOW9iPw49z"
      },
      "source": [
        "---\n",
        "# Transformada de Fourier discreta (DFT)\n",
        "\n",
        "La **transformada de Fourier discreta (DFT)** puede interpretarse como una versión discretizada de la transformada de Fourier (con tiempo y frecuencias discretas), que surge al muestrear tanto en el tiempo como en la frecuencia. Acá es importante diferenciarla de la serie de Fourier para desambiguar y evitar confusiones. La serie de Fourier representa una función en términos de frecuencias discretas, pero continuas en el dominio del tiempo. Por el contrario, la DFT aplica a un conjunto finito de datos (muestras discretas en el tiempo), no a una función continua.\n",
        "\n",
        "Dada una secuencia discreta de datos $x = [x_0, x_1, \\ldots, x_{N-1}]$ de longitud $N$, la DFT de esta secuencia produce otra secuencia de $N$ elementos $X = [X_0, X_1, \\ldots, X_{N-1}]$, donde cada $X_k$ representa una frecuencia específica de la señal. La DFT se define como:\n",
        "\n",
        "$$\n",
        "X_k = \\sum_{n=0}^{N-1} x_n e^{i \\frac{2 \\pi k n}{N}}\n",
        "$$\n",
        "\n",
        "En notación matricial, esto se puede escribir como:\n",
        "\n",
        "$$\n",
        "X = W \\cdot x\n",
        "$$\n",
        "\n",
        "donde $W$ es una **matriz de DFT** de tamaño $N \\times N$, cuyas entradas están dadas por:\n",
        "\n",
        "$$\n",
        "W_{kn} = e^{i \\frac{2 \\pi k n}{N}}\n",
        "$$\n",
        "\n",
        "Si definimos $\\omega = e^{i \\frac{2 \\pi}{N}}$, entonces $W_{kn} = \\omega^{kn}$, y la forma explícita de la matriz $W$ es:\n",
        "\n",
        "$$\n",
        "W = \\begin{bmatrix}\n",
        "1 & 1 & 1 & \\dots & 1 \\\\\n",
        "1 & \\omega & \\omega^2 & \\dots & \\omega^{N-1} \\\\\n",
        "1 & \\omega^2 & \\omega^4 & \\dots & \\omega^{2(N-1)} \\\\\n",
        "\\vdots & \\vdots & \\vdots & \\ddots & \\vdots \\\\\n",
        "1 & \\omega^{N-1} & \\omega^{2(N-1)} & \\dots & \\omega^{(N-1)(N-1)}\n",
        "\\end{bmatrix}\n",
        "$$\n"
      ]
    },
    {
      "cell_type": "markdown",
      "id": "hhgDbli4aHDK",
      "metadata": {
        "id": "hhgDbli4aHDK"
      },
      "source": [
        "## Ejercicio 3\n",
        "\n",
        "3.1. Escriba una función de Python que reciba como entrada un array y haga el cálculo de la DFT usando el comando `for`.\n",
        "\n",
        "3.2. Escriba una función de Python que reciba como entrada un array y haga el cálculo de la DFT usando álgebra lineal de matrices.\n",
        "\n",
        "3.3. Pruebe ambas funciones dándole como entrada vectores aleatorios de 128, 512, y 1024 de largo. Para cada uno de los casos, calcule y compare los tiempos de cómputo.\n"
      ]
    },
    {
      "cell_type": "code",
      "execution_count": null,
      "id": "mJyKoffceCdR",
      "metadata": {
        "id": "mJyKoffceCdR"
      },
      "outputs": [],
      "source": [
        "def DFT(x: np.ndarray) -> np.ndarray:\n",
        "    X: np.ndarray\n",
        "    N = len(x)\n",
        "    W = np.ones((N, N))\n",
        "\n",
        "    return X"
      ]
    },
    {
      "cell_type": "markdown",
      "id": "Yyz-nJ2iMUAF",
      "metadata": {
        "id": "Yyz-nJ2iMUAF"
      },
      "source": [
        "## Ejercicio 4\n",
        "\n",
        "Encuentre la DFT de los siguientes vectores:\n",
        "a) [0,1,0,−1]; b) [1,1,1,1]; c) [0,−1,0,1]; d) [0,1,0,−1,0,1,0,−1]"
      ]
    },
    {
      "cell_type": "code",
      "execution_count": null,
      "id": "Il-98R5cMTae",
      "metadata": {
        "id": "Il-98R5cMTae"
      },
      "outputs": [],
      "source": [
        "# # # COMPLETAR"
      ]
    },
    {
      "cell_type": "markdown",
      "id": "nUz2v6LYw69r",
      "metadata": {
        "id": "nUz2v6LYw69r"
      },
      "source": [
        "---\n",
        "# Transformada Rápida de Fourier (FFT)\n",
        "\n",
        "La FFT es una implementación eficiente de la DFT, que reduce significativamente el tiempo de cálculo. Uno de los algoritmos más utilizados para la FFT es el algoritmo de Cooley-Tukey propuesto en 1965. La DFT directa requiere $O(N^2)$ operaciones, mientras que la FFT reduce esto a $O(N \\log N)$, haciéndola mucho más eficiente para señales largas. De hecho, cuando el N es muy grande, escala “casi linealmente” con el tamaño de N.\n",
        "\n",
        "El algoritmo consiste básicamente en la aplicación de la estrategia *divide & conquer*, que divide la secuencia original en secuencias cada vez más chicas y las transforma recursivamente. Esto lo hace separando la señal en las componentes pares e impares, y calculando la DFT de cada mitad. Esto se repite recursivamente y, finalmente, se combinan los resultados para obtener la transformada completa.\n",
        "\n",
        "Si tengo la transoformada X de un vector x, de tamaño N, puedo reescribirlo como:\n",
        "\n",
        "$$\n",
        "X = W_N . x = \\begin{bmatrix}\n",
        "I_{N/2} & -D_{N/2} \\\\\n",
        "I_{N/2} & -D_{N/2} \\\\\n",
        "\\end{bmatrix} \\begin{bmatrix}\n",
        "W_{N/2} & 0 \\\\\n",
        "0 & W_{N/2} \\\\\n",
        "\\end{bmatrix}\n",
        "\\begin{bmatrix}\n",
        "x_{pares} \\\\\n",
        "x_{impares} \\\\\n",
        "\\end{bmatrix}\n",
        "$$\n",
        "\n",
        "con\n",
        "\n",
        "$$\n",
        "D_N = \\begin{bmatrix}\n",
        "1 & 0 & 0 & \\dots & 0 \\\\\n",
        "0 & \\omega & 0 & \\dots & 0 \\\\\n",
        "0 & 0 & \\omega^2 & \\dots & 0 \\\\\n",
        "\\vdots & \\vdots & \\vdots & \\ddots & \\vdots \\\\\n",
        "0 & 0 & 0 & \\dots & \\omega^{(N-1)}\n",
        "\\end{bmatrix}\n",
        "$$\n",
        "\n",
        "Esto se puede repetir recursivamente, hasta llegar a $W_2$, permitiendo un mecanismo simple de la resolución del problema.\n",
        "\n",
        "De esta manera, el algoritmo se plantea para valores de N que son potencias de 2, tal que se puedan separar de a mitades. Pero incluso si N no es una potencia de 2, se pueden completar los datos con ceros hasta llegar a la potencia de 2 más cercana y usar este algoritmo, que seguirá siendo una estrategia más eficiente que computar la DFT de manera directa.\n",
        "\n",
        "Además de la bibliografía recomendada [Arfken et al 2012; Sauer 2012; Brunton & Kutz 2019], pueden encontrar material complementario en los siguientes links acerca de la [interpretación visual de la transformada](https://www.youtube.com/watch?v=h4PTucW3Rm0); la [historia de la FFT](https://www.youtube.com/watch?v=nmgFG7PUHfo); una [explicación de la FFT](https://www.youtube.com/watch?v=toj_IoCQE-4&list=PLMrJAkhIeNNT_Xh3Oy0Y4LTj0Oxo8GqsC); una [explicación más detallada de la FFT con la estrategia divide and conquer](https://www.youtube.com/watch?v=h7apO7q16V0); una [explicación mucho más detallada](https://www.youtube.com/watch?v=iTMn0Kt18tg) (las últimas 2 son un poco excesivas).\n"
      ]
    },
    {
      "cell_type": "markdown",
      "id": "OH6Kq203QIAB",
      "metadata": {
        "id": "OH6Kq203QIAB"
      },
      "source": [
        "Veamos una forma de escribir el código de la función y comparemos el resultado con el obtenido de la función de Numpy"
      ]
    },
    {
      "cell_type": "code",
      "execution_count": null,
      "id": "LJVBUMHh-tZY",
      "metadata": {
        "id": "LJVBUMHh-tZY"
      },
      "outputs": [],
      "source": [
        "def fft_cod(x):\n",
        "    N = len(x)\n",
        "    if N <= 1:\n",
        "        return x\n",
        "    else:\n",
        "        X_even = fft_cod(x[0::2])\n",
        "        X_odd = fft_cod(x[1::2])\n",
        "        factor = np.exp(2j * np.pi * np.arange(N) / N)\n",
        "        return np.concatenate([X_even + factor[:N // 2] * X_odd,\n",
        "                               X_even - factor[:N // 2] * X_odd])"
      ]
    },
    {
      "cell_type": "code",
      "execution_count": null,
      "id": "b4d720df",
      "metadata": {
        "id": "b4d720df"
      },
      "outputs": [],
      "source": [
        "x = np.random.random(1024)\n",
        "\n",
        "# Verificación de la implementación\n",
        "X_fft = fft_cod(x)\n",
        "X = np.fft.fft(x)\n",
        "print(\"FFT calculada recursivamente:\", X_fft)\n",
        "print(\"FFT con numpy:\", X)  # Comparación con la función de NumPy\n"
      ]
    },
    {
      "cell_type": "markdown",
      "id": "2Ep01LsJqtdt",
      "metadata": {
        "id": "2Ep01LsJqtdt"
      },
      "source": [
        "Acá observamos una diferencia entre ambos resultados en el signo de la parte compleja. Esto se debe a que numpy usa la convención de signo del exponente en el kernel de Fourier contraria a la que vimos en clase, que está basada en el libro de Arfken.\n",
        "\n",
        "La **fase** del número complejo que sale de la FFT describe el desfase de cada componente de frecuencia con respecto al origen. Esto puede ser importante para el procesamiento de señales, pero sobre todo para la reconstrucción de la señal original.\n",
        "\n",
        "Sin embargo, la amplitud de cada componente de frecuencia va a estar descrita únicamente por el **módulo** del número complejo que sale de la FFT, por lo que ese es el resultado que nos interesa para analizar la intensidad de las diferentes frecuencias en la señal.\n"
      ]
    },
    {
      "cell_type": "code",
      "execution_count": null,
      "id": "VRqea1-ZwjIk",
      "metadata": {
        "id": "VRqea1-ZwjIk"
      },
      "outputs": [],
      "source": [
        "# Verificación de la implementación a partir de comparación de los módulos\n",
        "print(\"FFT calculada recursivamente:\\n\", abs(X_fft))\n",
        "print(\"FFT con numpy:\\n\", abs(X))  # Comparación con la función de NumPy"
      ]
    },
    {
      "cell_type": "markdown",
      "id": "C6NNseCLx2Lf",
      "metadata": {
        "id": "C6NNseCLx2Lf"
      },
      "source": [
        "---\n",
        "## Complejidad del método\n",
        "\n",
        "La DFT directa requiere $O(N^2)$ operaciones, mientras que la FFT reduce esto a $O(N \\log N)$."
      ]
    },
    {
      "cell_type": "markdown",
      "id": "MmeSLpjQQnvZ",
      "metadata": {
        "id": "MmeSLpjQQnvZ"
      },
      "source": [
        "### Ejercicio 5\n",
        "\n",
        "Piense una manera de mostrar diferencias en el costo computacional de la DFT y la FFT. Pruebela. Una idea podría ser evaluar ambos métodos para distintos tamaños de vectores de entrada generados de manera random."
      ]
    },
    {
      "cell_type": "code",
      "execution_count": null,
      "id": "Wvqx5GpfQ990",
      "metadata": {
        "id": "Wvqx5GpfQ990"
      },
      "outputs": [],
      "source": [
        "# # # COMPLETAR"
      ]
    },
    {
      "cell_type": "markdown",
      "id": "4JxlW7FcBxyV",
      "metadata": {
        "id": "4JxlW7FcBxyV"
      },
      "source": [
        "---\n",
        "# Aliasing\n",
        "\n",
        "El aliasing es un fenómeno que ocurre cuando una señal continua se muestrea a una tasa insuficiente, resultando en la superposición de frecuencias y la pérdida de información. Según el [teorema de muestreo de Nyquist-Shannon](https://es.wikipedia.org/wiki/Teorema_de_muestreo_de_Nyquist-Shannon), para evitar aliasing, la frecuencia de muestreo debe ser al menos el doble de la frecuencia máxima presente en la señal.\n",
        "\n",
        "Si una señal tiene una frecuencia máxima de $f_{max}$, la frecuencia de muestreo $f_s$ debe cumplir:\n",
        "\n",
        "$$\n",
        "f_s \\geq 2 f_{max}\n",
        "$$\n",
        "\n",
        "Si esto no se cumple, las frecuencias altas se \"aliasan\" y aparecen como frecuencias más bajas en el dominio muestreado."
      ]
    },
    {
      "cell_type": "markdown",
      "id": "qekzBKrYB1Yu",
      "metadata": {
        "id": "qekzBKrYB1Yu"
      },
      "source": [
        "## Ejercicio 6\n",
        "\n",
        "Considerar una grilla del intervalo $[0,1]$, de paso $\\frac{1}{8}$.\n",
        "- Hacer un scatter plot de los valores de las funciones $f_1(x) = \\sin(2\\pi x)$ y $f_2(x) = \\sin(18\\pi x)$ sobre la\tgrilla. ¿Qué se observa?\n",
        "- Sobre el scatter plot anterior graficar, usando una grilla más fina (de 1/512), ambas funciones."
      ]
    },
    {
      "cell_type": "code",
      "execution_count": null,
      "id": "i38JzczTzg0z",
      "metadata": {
        "id": "i38JzczTzg0z"
      },
      "outputs": [],
      "source": [
        "# # # COMPLETAR"
      ]
    },
    {
      "cell_type": "markdown",
      "id": "-c_5qMGuxt9q",
      "metadata": {
        "id": "-c_5qMGuxt9q"
      },
      "source": [
        "---\n",
        "# Uso de la FFT\n",
        "\n",
        "En Python, `numpy` proporciona `np.fft.fft` para calcular la FFT de manera rápida y sencilla.\n",
        "\n",
        "Al usar esta función para transformar una señal a su representación en frecuencia, obtendremos valores complejos representando la magnitud y fase de cada frecuencia de la señal. Para representar la amplitud de las frecuencias, usamos el módulo de los valores complejos devueltos por la FFT.\n",
        "\n",
        "Es importante que la **frecuencia de muestreo** (fs) sea al menos el doble de la frecuencia máxima de la señal para cumplir con el teorema de Nyquist. Si la frecuencia de muestreo es insuficiente, se produce **aliasing**, y las componentes de frecuencia más altas se reflejan como componentes de frecuencia más bajas, distorsionando la señal.\n",
        "\n",
        "La FFT nos da tantos valores como puntos tenga la señal. Sin embargo, sólo la primera mitad de los valores representa frecuencias únicas (debido a la **simetría de la transformada**). Para interpretar la FFT, necesitamos generar un eje de frecuencias. Para visualizar correctamente, normalmente usamos sólo la primera mitad de los resultados, ya que en la FFT de una señal real, los valores de la segunda mitad son simétricos de los de la primera mitad.\n",
        "\n",
        "\n"
      ]
    },
    {
      "cell_type": "code",
      "execution_count": null,
      "id": "jECtErhONuL_",
      "metadata": {
        "id": "jECtErhONuL_"
      },
      "outputs": [],
      "source": [
        "# Parámetros de la señal\n",
        "fs = 500 # frecuencia de muestreo (Hz)\n",
        "D = 1.0 # duración de la señal (s)\n",
        "t = np.arange(0, D, 1/fs) # vector de tiempo\n",
        "\n",
        "# Señal con dos frecuencias\n",
        "f1, f2 = 50, 120\n",
        "signal = np.sin(2 * np.pi * f1 * t) + 0.5 * np.sin(2 * np.pi * f2 * t)\n",
        "\n",
        "# Calculamos la FFT\n",
        "fft_values = np.fft.fft(signal)\n",
        "# Número total de puntos de la señal\n",
        "N = len(signal)\n",
        "# Eje de frecuencias\n",
        "freqs = np.fft.fftfreq(N, 1/fs)\n",
        "\n",
        "# Tomamos sólo la primera mitad debido a la simetría\n",
        "fft_values_half = fft_values[:N//2]\n",
        "freqs_half = freqs[:N//2]\n",
        "\n",
        "# Magnitud de la FFT\n",
        "magnitude = np.abs(fft_values_half)\n",
        "\n",
        "# Visualizamos la señal original y su espectro de frecuencias\n",
        "plt.figure(figsize=(10, 6))\n",
        "\n",
        "plt.subplot(2, 1, 1)\n",
        "plt.plot(t, signal)\n",
        "plt.title(\"Señal en el dominio del tiempo\")\n",
        "plt.xlabel(\"Tiempo (s)\")\n",
        "plt.ylabel(\"Amplitud\")\n",
        "\n",
        "plt.subplot(2, 1, 2)\n",
        "plt.plot(freqs_half, magnitude)\n",
        "plt.title(\"Espectro de frecuencias (FFT)\")\n",
        "plt.xlabel(\"Frecuencia (Hz)\")\n",
        "plt.ylabel(\"Magnitud\")\n",
        "\n",
        "plt.tight_layout()\n",
        "plt.show()"
      ]
    },
    {
      "cell_type": "markdown",
      "id": "SJ8WJoiiSYWk",
      "metadata": {
        "id": "SJ8WJoiiSYWk"
      },
      "source": [
        "## Ejercicio 7\n",
        "\n",
        "Genere una onda cuadrada de cierta periodicidad, y encuentre el espectro discreto de Fourier usando `np.fft.fft`. Tenga en cuenta las consideraciones correspondientes sobre la frecuencia de muestreo y la frecuencia de la onda, y sobre cómo usar la función de Numpy.\n"
      ]
    },
    {
      "cell_type": "code",
      "execution_count": null,
      "id": "6VXI4xkxSXAi",
      "metadata": {
        "id": "6VXI4xkxSXAi"
      },
      "outputs": [],
      "source": [
        "# # # COMPLETAR"
      ]
    },
    {
      "cell_type": "markdown",
      "id": "ryIUbDsmxdNi",
      "metadata": {
        "id": "ryIUbDsmxdNi"
      },
      "source": [
        "---\n",
        "# Aplicaciones matemáticas"
      ]
    },
    {
      "cell_type": "markdown",
      "id": "62v3kWQ7dHXI",
      "metadata": {
        "id": "62v3kWQ7dHXI"
      },
      "source": [
        "## Cálculo de la derivada\n",
        "\n",
        "Una aplicación matemática de la transformada de Fourier es calcular la derivada de una función. La transformada de Fourier es útil para calcular derivadas porque en el dominio de frecuencias, derivar se convierte en una operación de multiplicación. Esto surge de cómo la derivada afecta a las funciones exponenciales complejas, que son las bases de Fourier.\n",
        "\n",
        "Dada una función $f(x)$, su transformada de Fourier $F(k)$ está definida por:\n",
        "\n",
        "$$\n",
        "F(k) = \\frac{1}{\\sqrt{2\\pi}} \\int_{-\\infty}^{\\infty} f(x) e^{ikx} \\, dx\n",
        "$$\n",
        "\n",
        "Para volver a la función original podemos antitransformar, por lo que la función se puede expresar de la siguiente manera:\n",
        "\n",
        "$$\n",
        "f(x) = \\frac{1}{\\sqrt{2\\pi}} \\int_{-\\infty}^{\\infty} F(k) e^{-ikx} \\, dk\n",
        "$$\n",
        "\n",
        "Si queremos calcular la derivada $f'(x)$ en el dominio de Fourier, usamos que:\n",
        "\n",
        "$$\n",
        "\\frac{d}{dx} f(x) \\rightarrow -ik F(k)\n",
        "$$\n",
        "\n",
        "Esto se deriva de la propiedad de derivación en Fourier: si derivamos una función en el dominio real, su transformada de Fourier se multiplica por $(-ik)$. Así, la transformada de Fourier de $f'(x)$ es simplemente $(-ik) \\cdot F(k)$. Para calcular $f'(x)$, entonces:\n",
        "\n",
        "1. Calculamos $F(k)$ con la FFT.\n",
        "2. Multiplicamos $F(k)$ por $(-ik)$ para obtener la transformada de $f'(x)$.\n",
        "3. Aplicamos la transformada inversa de Fourier para regresar al dominio real y obtener $f'(x)$.\n",
        "\n",
        "Esta propiedad se extiende a derivadas de orden superior: cada derivada agrega un factor $(-ik)^n$ en el dominio de Fourier.\n",
        "\n",
        "El método de derivación mediante FFT es más preciso para funciones periódicas debido a la naturaleza de la FFT, que asume implícitamente periodicidad en el intervalo de análisis. Para funciones periódicas, este método es exacto dentro del intervalo de un período, ya que la FFT representa fielmente sus componentes de frecuencia sin efectos indeseados en los bordes. Para funciones que no son periódicas, la FFT aplica una extensión periódica, lo que puede introducir discontinuidades en los bordes del intervalo. Esto genera errores en el cálculo de la derivada, conocidos como *artefactos de borde*. Para minimizar estos efectos en funciones no periódicas, una estrategia común es extender el intervalo de manera que la función \"parezca\" más periódica, o también se puede suavizar los bordes (por ejemplo, con una ventana de Hann o de Hamming) antes de aplicar la FFT, aunque esto puede disminuir la precisión en los extremos del intervalo.\n"
      ]
    },
    {
      "cell_type": "markdown",
      "id": "BIYMK9Z1hwZ3",
      "metadata": {
        "id": "BIYMK9Z1hwZ3"
      },
      "source": [
        "**Ejemplo**\n",
        "\n",
        "Consideremos una función cuadrática $f(x)=x^{2}$ en un intervalo $[-L, L]$, evaluada en puntos equiespaciados. La derivada de esta función puede calcularse en el dominio de la frecuencia multiplicando cada coeficiente de frecuencia por $(-ik)$.\n",
        "\n",
        "Esto se debe a que se puede plantear el cálculo de derivadas de funciones utilizando la propiedad:\n",
        "$$\n",
        "F'(k) = - 2\\pi i k F(k)\n",
        "$$\n",
        "\n",
        "Para ello debemos tener en cuenta varias cosas:\n",
        "- En el caso discreto trabajamos sobre un intervalo acotado (de longitud $L$ que tomaremos como el período de la función).\n",
        "- La variable $k$ también es discreta y debemos tomar en cuenta su rango.\n",
        "- Cuando usamos la FFT de Numpy, tenemos que redefinir la convención de la transformada tal que en lugar de $(-ik)$ usamos $ik$.\n",
        "\n",
        "La fórmula, por lo tanto se transforma en:\n",
        "$$\n",
        "F(f')[k] = \\frac{2\\pi}{L}i k F(f)[k],\n",
        "$$\n",
        "\n",
        "donde $F$ es la transformada discreta y $k=-\\frac{N}{2},\\dots,\\frac{N}{2}-1$.\n"
      ]
    },
    {
      "cell_type": "code",
      "execution_count": null,
      "id": "RW2r74qNTkIM",
      "metadata": {
        "id": "RW2r74qNTkIM"
      },
      "outputs": [],
      "source": [
        "def f(x):\n",
        "    return x**2\n",
        "\n",
        "L = 2  # Longitud del intervalo [-L, L]\n",
        "N = 1024  # Número de puntos de muestreo (potencia de 2 para mayor eficiencia en FFT)\n",
        "# Discretización del dominio\n",
        "x = np.linspace(-L, L, N, endpoint=False)\n",
        "dx = x[1] - x[0]  # Paso de discretización\n",
        "# Evaluación de la función\n",
        "f_x = f(x)\n",
        "# Aplicamos la FFT\n",
        "f_hat = np.fft.fft(f_x)\n",
        "# Números de onda\n",
        "k = 2 * np.pi * np.fft.fftfreq(N, d=dx)\n",
        "# Derivada en el dominio de Fourier (multiplicación por ik)\n",
        "f_hat_deriv = 1j * k * f_hat\n",
        "# Transformada inversa para obtener la derivada en el dominio real\n",
        "f_x_deriv = np.fft.ifft(f_hat_deriv).real\n",
        "# Valor teórico de la derivada para comparar\n",
        "f_deriv_exact = 2 * x\n",
        "# Graficamos\n",
        "plt.figure(figsize=(10, 5))\n",
        "plt.plot(x, f_deriv_exact, label=\"Derivada exacta $f'(x) = 2x$\", color='blue')\n",
        "plt.plot(x, f_x_deriv, '--', label=\"Derivada con FFT\", color='orange')\n",
        "plt.legend()\n",
        "plt.xlabel(\"x\")\n",
        "plt.ylabel(\"f'(x)\")\n",
        "plt.title(\"Cálculo de la derivada de $f(x) = x^2$ usando FFT\")\n",
        "plt.grid()\n",
        "plt.show()\n"
      ]
    },
    {
      "cell_type": "markdown",
      "id": "y7ZPQ5A5Tpw4",
      "metadata": {
        "id": "y7ZPQ5A5Tpw4"
      },
      "source": [
        "Al observar el gráfico, se nota que la derivada calculada usando la FFT coincide con la derivada teórica de $f(x)=x^{2}$, que es $f'(x)=2x$. Esta aplicación demuestra cómo la DFT puede ser útil en la resolución de problemas matemáticos."
      ]
    },
    {
      "cell_type": "markdown",
      "id": "vEqQXNemTN6F",
      "metadata": {
        "id": "vEqQXNemTN6F"
      },
      "source": [
        "### Ejercicio 8\n",
        "\n",
        "Para un $N$ que sea potencia de 2, calcular las derivadas de las siguientes funciones.\n",
        "- $f(x) = sin(x)$, en $[0,2\\pi]$\n",
        "- $f(x) = x$, en $[0,1]$\n",
        "\n",
        "Para ello, definir una grilla de algún intervalo adecuado, evaluar la función, aplicarle la función `fft` de Numpy, multiplicar y aplicar la transformada inversa (también con Numpy, buscar documentación). A la hora de multiplicar, tener en cuenta que los coeficientes no necesariamente se encuentran en el orden esperado."
      ]
    },
    {
      "cell_type": "code",
      "execution_count": null,
      "id": "Hr1k8YQFTNg3",
      "metadata": {
        "id": "Hr1k8YQFTNg3"
      },
      "outputs": [],
      "source": [
        "# # # COMPLETAR"
      ]
    },
    {
      "cell_type": "markdown",
      "id": "Hlgb84miDCrK",
      "metadata": {
        "id": "Hlgb84miDCrK"
      },
      "source": [
        "## Operador lineal\n",
        "\n",
        "La transformada de Fourier es un operador lineal, ya que satisface la propiedad de linealidad: para dos funciones $f(x)$ y $g(x)$ y constantes $a$ y $b$, se cumple que\n",
        "\n",
        "$$\n",
        "\\mathcal{F}\\{a. f(x) + b. g(x)\\} = a. \\mathcal{F}\\{f(x)\\} + b. \\mathcal{F}\\{g(x)\\}\n",
        "$$\n",
        "\n",
        "Esto significa que la transformada de Fourier preserva la suma de funciones y la multiplicación por constantes, una propiedad fundamental en su aplicación a sistemas lineales.\n"
      ]
    },
    {
      "cell_type": "code",
      "execution_count": null,
      "id": "p9jxdJ9wDK8q",
      "metadata": {
        "id": "p9jxdJ9wDK8q"
      },
      "outputs": [],
      "source": [
        "def is_linear(operator, x, y, alpha, beta):\n",
        "  result1 = operator(alpha * x + beta * y)\n",
        "  result2 = alpha * operator(x) + beta * operator(y)\n",
        "  return np.allclose(result1, result2)\n",
        "\n",
        "# Ejemplo de uso\n",
        "x = np.random.rand(128)\n",
        "y = np.random.rand(128)\n",
        "alpha = 2.5\n",
        "beta = -1.2\n",
        "\n",
        "# La función np.fft.fft es la FFT de NumPy\n",
        "if is_linear(np.fft.fft, x, y, alpha, beta):\n",
        "  print(\"La transformada de Fourier es un operador lineal.\")\n",
        "else:\n",
        "  print(\"La transformada de Fourier no es un operador lineal.\")"
      ]
    },
    {
      "cell_type": "code",
      "execution_count": null,
      "id": "-xgUpNcUV5K4",
      "metadata": {
        "id": "-xgUpNcUV5K4"
      },
      "outputs": [],
      "source": []
    }
  ],
  "metadata": {
    "colab": {
      "provenance": [],
      "toc_visible": true,
      "include_colab_link": true
    },
    "kernelspec": {
      "display_name": "Python 3 (ipykernel)",
      "language": "python",
      "name": "python3"
    },
    "language_info": {
      "codemirror_mode": {
        "name": "ipython",
        "version": 3
      },
      "file_extension": ".py",
      "mimetype": "text/x-python",
      "name": "python",
      "nbconvert_exporter": "python",
      "pygments_lexer": "ipython3",
      "version": "3.12.9"
    }
  },
  "nbformat": 4,
  "nbformat_minor": 5
}